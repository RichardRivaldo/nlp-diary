{
  "nbformat": 4,
  "nbformat_minor": 0,
  "metadata": {
    "colab": {
      "provenance": [],
      "collapsed_sections": [
        "dZgFlOaoz-Qa",
        "RqRETuqQsEHf",
        "3P7rLx61r7BS",
        "66VL-87g0V_9",
        "vgeeEuWveVsL",
        "cQb4Oyhye_D6",
        "xD-OEcuFruXg",
        "ygyl7p_RgLXh",
        "RRhJgioJhpv5",
        "59Zk7yD8wlWM",
        "MirImBlAwmim",
        "xPtjCwZtxhVP",
        "osdpq-GuANiU",
        "3qRA9elKseuH",
        "a1h7ZbX8th8m",
        "80inp10CTxHl",
        "Dl3eoWMFUyrt",
        "lJg4UoPSjxfy",
        "wzt5EAbKHo7B",
        "iJsOtvva2baQ",
        "0SmJrQSQ3KqI",
        "IliqcsNjW1N8",
        "I5Zh8h8wLueE",
        "v0i3IVcnFLmN"
      ],
      "toc_visible": true
    },
    "kernelspec": {
      "name": "python3",
      "display_name": "Python 3"
    },
    "language_info": {
      "name": "python"
    },
    "accelerator": "GPU"
  },
  "cells": [
    {
      "cell_type": "markdown",
      "source": [
        "# Dependencies"
      ],
      "metadata": {
        "id": "dZgFlOaoz-Qa"
      }
    },
    {
      "cell_type": "code",
      "source": [
        "!pip install keras_tuner --upgrade"
      ],
      "metadata": {
        "colab": {
          "base_uri": "https://localhost:8080/"
        },
        "id": "ohJpotAl0AjY",
        "outputId": "30b08af4-4dd5-49fc-bb2d-5f872c4dfc1d"
      },
      "execution_count": null,
      "outputs": [
        {
          "output_type": "stream",
          "name": "stdout",
          "text": [
            "Looking in indexes: https://pypi.org/simple, https://us-python.pkg.dev/colab-wheels/public/simple/\n",
            "Collecting keras_tuner\n",
            "  Downloading keras_tuner-1.1.3-py3-none-any.whl (135 kB)\n",
            "\u001b[K     |████████████████████████████████| 135 kB 31.5 MB/s \n",
            "\u001b[?25hRequirement already satisfied: ipython in /usr/local/lib/python3.7/dist-packages (from keras_tuner) (7.9.0)\n",
            "Requirement already satisfied: tensorboard in /usr/local/lib/python3.7/dist-packages (from keras_tuner) (2.9.1)\n",
            "Collecting kt-legacy\n",
            "  Downloading kt_legacy-1.0.4-py3-none-any.whl (9.6 kB)\n",
            "Requirement already satisfied: requests in /usr/local/lib/python3.7/dist-packages (from keras_tuner) (2.23.0)\n",
            "Requirement already satisfied: packaging in /usr/local/lib/python3.7/dist-packages (from keras_tuner) (21.3)\n",
            "Requirement already satisfied: numpy in /usr/local/lib/python3.7/dist-packages (from keras_tuner) (1.21.6)\n",
            "Requirement already satisfied: traitlets>=4.2 in /usr/local/lib/python3.7/dist-packages (from ipython->keras_tuner) (5.1.1)\n",
            "Requirement already satisfied: pexpect in /usr/local/lib/python3.7/dist-packages (from ipython->keras_tuner) (4.8.0)\n",
            "Collecting jedi>=0.10\n",
            "  Downloading jedi-0.18.1-py2.py3-none-any.whl (1.6 MB)\n",
            "\u001b[K     |████████████████████████████████| 1.6 MB 54.6 MB/s \n",
            "\u001b[?25hRequirement already satisfied: pickleshare in /usr/local/lib/python3.7/dist-packages (from ipython->keras_tuner) (0.7.5)\n",
            "Requirement already satisfied: backcall in /usr/local/lib/python3.7/dist-packages (from ipython->keras_tuner) (0.2.0)\n",
            "Requirement already satisfied: decorator in /usr/local/lib/python3.7/dist-packages (from ipython->keras_tuner) (4.4.2)\n",
            "Requirement already satisfied: pygments in /usr/local/lib/python3.7/dist-packages (from ipython->keras_tuner) (2.6.1)\n",
            "Requirement already satisfied: setuptools>=18.5 in /usr/local/lib/python3.7/dist-packages (from ipython->keras_tuner) (57.4.0)\n",
            "Requirement already satisfied: prompt-toolkit<2.1.0,>=2.0.0 in /usr/local/lib/python3.7/dist-packages (from ipython->keras_tuner) (2.0.10)\n",
            "Requirement already satisfied: parso<0.9.0,>=0.8.0 in /usr/local/lib/python3.7/dist-packages (from jedi>=0.10->ipython->keras_tuner) (0.8.3)\n",
            "Requirement already satisfied: six>=1.9.0 in /usr/local/lib/python3.7/dist-packages (from prompt-toolkit<2.1.0,>=2.0.0->ipython->keras_tuner) (1.15.0)\n",
            "Requirement already satisfied: wcwidth in /usr/local/lib/python3.7/dist-packages (from prompt-toolkit<2.1.0,>=2.0.0->ipython->keras_tuner) (0.2.5)\n",
            "Requirement already satisfied: pyparsing!=3.0.5,>=2.0.2 in /usr/local/lib/python3.7/dist-packages (from packaging->keras_tuner) (3.0.9)\n",
            "Requirement already satisfied: ptyprocess>=0.5 in /usr/local/lib/python3.7/dist-packages (from pexpect->ipython->keras_tuner) (0.7.0)\n",
            "Requirement already satisfied: chardet<4,>=3.0.2 in /usr/local/lib/python3.7/dist-packages (from requests->keras_tuner) (3.0.4)\n",
            "Requirement already satisfied: certifi>=2017.4.17 in /usr/local/lib/python3.7/dist-packages (from requests->keras_tuner) (2022.9.24)\n",
            "Requirement already satisfied: urllib3!=1.25.0,!=1.25.1,<1.26,>=1.21.1 in /usr/local/lib/python3.7/dist-packages (from requests->keras_tuner) (1.24.3)\n",
            "Requirement already satisfied: idna<3,>=2.5 in /usr/local/lib/python3.7/dist-packages (from requests->keras_tuner) (2.10)\n",
            "Requirement already satisfied: tensorboard-plugin-wit>=1.6.0 in /usr/local/lib/python3.7/dist-packages (from tensorboard->keras_tuner) (1.8.1)\n",
            "Requirement already satisfied: google-auth<3,>=1.6.3 in /usr/local/lib/python3.7/dist-packages (from tensorboard->keras_tuner) (1.35.0)\n",
            "Requirement already satisfied: tensorboard-data-server<0.7.0,>=0.6.0 in /usr/local/lib/python3.7/dist-packages (from tensorboard->keras_tuner) (0.6.1)\n",
            "Requirement already satisfied: werkzeug>=1.0.1 in /usr/local/lib/python3.7/dist-packages (from tensorboard->keras_tuner) (1.0.1)\n",
            "Requirement already satisfied: absl-py>=0.4 in /usr/local/lib/python3.7/dist-packages (from tensorboard->keras_tuner) (1.3.0)\n",
            "Requirement already satisfied: markdown>=2.6.8 in /usr/local/lib/python3.7/dist-packages (from tensorboard->keras_tuner) (3.4.1)\n",
            "Requirement already satisfied: protobuf<3.20,>=3.9.2 in /usr/local/lib/python3.7/dist-packages (from tensorboard->keras_tuner) (3.17.3)\n",
            "Requirement already satisfied: grpcio>=1.24.3 in /usr/local/lib/python3.7/dist-packages (from tensorboard->keras_tuner) (1.50.0)\n",
            "Requirement already satisfied: google-auth-oauthlib<0.5,>=0.4.1 in /usr/local/lib/python3.7/dist-packages (from tensorboard->keras_tuner) (0.4.6)\n",
            "Requirement already satisfied: wheel>=0.26 in /usr/local/lib/python3.7/dist-packages (from tensorboard->keras_tuner) (0.37.1)\n",
            "Requirement already satisfied: rsa<5,>=3.1.4 in /usr/local/lib/python3.7/dist-packages (from google-auth<3,>=1.6.3->tensorboard->keras_tuner) (4.9)\n",
            "Requirement already satisfied: cachetools<5.0,>=2.0.0 in /usr/local/lib/python3.7/dist-packages (from google-auth<3,>=1.6.3->tensorboard->keras_tuner) (4.2.4)\n",
            "Requirement already satisfied: pyasn1-modules>=0.2.1 in /usr/local/lib/python3.7/dist-packages (from google-auth<3,>=1.6.3->tensorboard->keras_tuner) (0.2.8)\n",
            "Requirement already satisfied: requests-oauthlib>=0.7.0 in /usr/local/lib/python3.7/dist-packages (from google-auth-oauthlib<0.5,>=0.4.1->tensorboard->keras_tuner) (1.3.1)\n",
            "Requirement already satisfied: importlib-metadata>=4.4 in /usr/local/lib/python3.7/dist-packages (from markdown>=2.6.8->tensorboard->keras_tuner) (4.13.0)\n",
            "Requirement already satisfied: typing-extensions>=3.6.4 in /usr/local/lib/python3.7/dist-packages (from importlib-metadata>=4.4->markdown>=2.6.8->tensorboard->keras_tuner) (4.1.1)\n",
            "Requirement already satisfied: zipp>=0.5 in /usr/local/lib/python3.7/dist-packages (from importlib-metadata>=4.4->markdown>=2.6.8->tensorboard->keras_tuner) (3.10.0)\n",
            "Requirement already satisfied: pyasn1<0.5.0,>=0.4.6 in /usr/local/lib/python3.7/dist-packages (from pyasn1-modules>=0.2.1->google-auth<3,>=1.6.3->tensorboard->keras_tuner) (0.4.8)\n",
            "Requirement already satisfied: oauthlib>=3.0.0 in /usr/local/lib/python3.7/dist-packages (from requests-oauthlib>=0.7.0->google-auth-oauthlib<0.5,>=0.4.1->tensorboard->keras_tuner) (3.2.2)\n",
            "Installing collected packages: jedi, kt-legacy, keras-tuner\n",
            "Successfully installed jedi-0.18.1 keras-tuner-1.1.3 kt-legacy-1.0.4\n"
          ]
        }
      ]
    },
    {
      "cell_type": "markdown",
      "source": [
        "# Libraries"
      ],
      "metadata": {
        "id": "RqRETuqQsEHf"
      }
    },
    {
      "cell_type": "code",
      "source": [
        "import re\n",
        "import json\n",
        "import pickle\n",
        "import random\n",
        "import string\n",
        "import pathlib\n",
        "import numpy as np\n",
        "import pandas as pd\n",
        "import tensorflow as tf\n",
        "import keras_tuner as kt\n",
        "from tensorflow import keras\n",
        "from tensorflow.keras import layers\n",
        "from tensorflow.keras.callbacks import EarlyStopping\n",
        "from tensorflow.keras.layers import TextVectorization\n",
        "from nltk.translate.bleu_score import corpus_bleu, SmoothingFunction"
      ],
      "metadata": {
        "id": "1xddbCBOBEEW"
      },
      "execution_count": null,
      "outputs": []
    },
    {
      "cell_type": "markdown",
      "source": [
        "# Dataset"
      ],
      "metadata": {
        "id": "3P7rLx61r7BS"
      }
    },
    {
      "cell_type": "markdown",
      "source": [
        "The dataset is taken and pre-modified from [Tatoeba](https://tatoeba.org), contains about 13k+ data of Indonesian-English translated sentences."
      ],
      "metadata": {
        "id": "-nUoahNHsIXb"
      }
    },
    {
      "cell_type": "markdown",
      "source": [
        "## Convert Dataset to Tab-Separated Texts"
      ],
      "metadata": {
        "id": "66VL-87g0V_9"
      }
    },
    {
      "cell_type": "code",
      "source": [
        "# One time call\n",
        "# df = pd.read_csv(\"translation.tsv\", sep=\"\\t\")\n",
        "# df.to_csv(\"translation.txt\", header=None, index=None, sep=\"\\t\", mode=\"a\")"
      ],
      "metadata": {
        "id": "EiuYnWNF0pCc"
      },
      "execution_count": null,
      "outputs": []
    },
    {
      "cell_type": "markdown",
      "source": [
        "## Load the Dataset"
      ],
      "metadata": {
        "id": "vgeeEuWveVsL"
      }
    },
    {
      "cell_type": "code",
      "source": [
        "data_path = \"translation.txt\"\n",
        "with open(data_path) as f:\n",
        "    texts = f.read().split(\"\\n\")[:-1]"
      ],
      "metadata": {
        "id": "XmC-om0heZD5"
      },
      "execution_count": null,
      "outputs": []
    },
    {
      "cell_type": "markdown",
      "source": [
        "## Add Start-of-Sentence (SOS) and End-of-Sentence (EOS) Token"
      ],
      "metadata": {
        "id": "cQb4Oyhye_D6"
      }
    },
    {
      "cell_type": "code",
      "source": [
        "text_pairs = []\n",
        "\n",
        "for text in texts:\n",
        "    # Split and add the sentence into a tuple pair (ID, EN)\n",
        "    id, en = text.split(\"\\t\")\n",
        "    text_pairs.append((id, f\"thisissos {en} thisiseos\"))"
      ],
      "metadata": {
        "id": "dqQBng1Texlt"
      },
      "execution_count": null,
      "outputs": []
    },
    {
      "cell_type": "code",
      "source": [
        "random.choice(text_pairs)"
      ],
      "metadata": {
        "colab": {
          "base_uri": "https://localhost:8080/"
        },
        "id": "EySV_vH0eyr-",
        "outputId": "e7fd33ba-07e3-4e3f-c926-026ba63abaef"
      },
      "execution_count": null,
      "outputs": [
        {
          "output_type": "execute_result",
          "data": {
            "text/plain": [
              "('Dia dikenal sebagai seorang penyanyi rok.',\n",
              " 'thisissos He is known as a rock singer. thisiseos')"
            ]
          },
          "metadata": {},
          "execution_count": 6
        }
      ]
    },
    {
      "cell_type": "markdown",
      "source": [
        "## Little EDA"
      ],
      "metadata": {
        "id": "xD-OEcuFruXg"
      }
    },
    {
      "cell_type": "code",
      "source": [
        "# Find max number of tokens in a sentence for each language\n",
        "max_seq_len_id = 0\n",
        "max_seq_len_en = 0\n",
        "\n",
        "for pair in text_pairs:\n",
        "    if len(pair[0]) > max_seq_len_id:\n",
        "        max_seq_len_id = len(pair[0])\n",
        "\n",
        "    if len(pair[1]) > max_seq_len_en:\n",
        "        max_seq_len_en = len(pair[1])"
      ],
      "metadata": {
        "id": "v9k8w7r0rtvv"
      },
      "execution_count": null,
      "outputs": []
    },
    {
      "cell_type": "code",
      "source": [
        "max_seq_len_id, max_seq_len_en"
      ],
      "metadata": {
        "colab": {
          "base_uri": "https://localhost:8080/"
        },
        "id": "RijkhVsPsPv5",
        "outputId": "43f93369-cf8b-40ee-c254-589b5bfb14ca"
      },
      "execution_count": null,
      "outputs": [
        {
          "output_type": "execute_result",
          "data": {
            "text/plain": [
              "(447, 414)"
            ]
          },
          "metadata": {},
          "execution_count": 8
        }
      ]
    },
    {
      "cell_type": "markdown",
      "source": [
        "## Split Dataset"
      ],
      "metadata": {
        "id": "ygyl7p_RgLXh"
      }
    },
    {
      "cell_type": "code",
      "source": [
        "# Shuffle the texts\n",
        "random.shuffle(text_pairs)\n",
        "\n",
        "# Determine the number of each datasets\n",
        "# 10% of validation and test set\n",
        "n_val = int(0.10 * len(text_pairs))\n",
        "n_train = len(text_pairs) - 2 * n_val"
      ],
      "metadata": {
        "id": "dzN6OLfufbCx"
      },
      "execution_count": null,
      "outputs": []
    },
    {
      "cell_type": "code",
      "source": [
        "# Slice the pairs list\n",
        "train_pairs = text_pairs[: n_train]\n",
        "val_pairs = text_pairs[n_train : n_train + n_val]\n",
        "test_pairs = text_pairs[n_train + n_val :]"
      ],
      "metadata": {
        "id": "KrffmgWIg4qx"
      },
      "execution_count": null,
      "outputs": []
    },
    {
      "cell_type": "code",
      "source": [
        "len(text_pairs), len(train_pairs), len(val_pairs), len(test_pairs)"
      ],
      "metadata": {
        "colab": {
          "base_uri": "https://localhost:8080/"
        },
        "id": "WFPodSHjhQwE",
        "outputId": "830ddd0d-8643-46e4-d476-5cf6db412045"
      },
      "execution_count": null,
      "outputs": [
        {
          "output_type": "execute_result",
          "data": {
            "text/plain": [
              "(13846, 11078, 1384, 1384)"
            ]
          },
          "metadata": {},
          "execution_count": 11
        }
      ]
    },
    {
      "cell_type": "markdown",
      "source": [
        "# Vectorization"
      ],
      "metadata": {
        "id": "RRhJgioJhpv5"
      }
    },
    {
      "cell_type": "markdown",
      "source": [
        "## Instantiate the vectorizer"
      ],
      "metadata": {
        "id": "59Zk7yD8wlWM"
      }
    },
    {
      "cell_type": "code",
      "source": [
        "# The output sequence of the vectorizer will be padded to max_seq_len\n",
        "# OOM :(\n",
        "max_seq_len = int(max(max_seq_len_id, max_seq_len_en) / 2)\n",
        "\n",
        "def create_vectorizer(vocab_size=20000):\n",
        "    id_vectorizer = TextVectorization(\n",
        "        max_tokens=vocab_size, \n",
        "        output_mode=\"int\", \n",
        "        output_sequence_length=max_seq_len,\n",
        "        standardize=\"lower_and_strip_punctuation\"\n",
        "    )\n",
        "\n",
        "    en_vectorizer = TextVectorization(\n",
        "        max_tokens=vocab_size,\n",
        "        output_mode=\"int\",\n",
        "        output_sequence_length=max_seq_len + 1,\n",
        "        standardize=\"lower_and_strip_punctuation\",\n",
        "    )\n",
        "\n",
        "    return id_vectorizer, en_vectorizer"
      ],
      "metadata": {
        "id": "ziFhCD9DvE2t"
      },
      "execution_count": null,
      "outputs": []
    },
    {
      "cell_type": "markdown",
      "source": [
        "## Adapt the Vectorizer"
      ],
      "metadata": {
        "id": "MirImBlAwmim"
      }
    },
    {
      "cell_type": "code",
      "source": [
        "# Split the training set for each language\n",
        "def split_data_lang(pairs):\n",
        "    train_1, train_2 = zip(*train_pairs)\n",
        "    train_1 = list(train_1)\n",
        "    train_2 = list(train_2)\n",
        "\n",
        "    return train_1, train_2"
      ],
      "metadata": {
        "id": "z4ecbpdYwgMx"
      },
      "execution_count": null,
      "outputs": []
    },
    {
      "cell_type": "code",
      "source": [
        "# Adapt the Vectorizer to the training set\n",
        "def adapt_vectorizer(vectorizer, train_set):\n",
        "    vectorizer.adapt(train_set)"
      ],
      "metadata": {
        "id": "bc6gQ2Shw7WO"
      },
      "execution_count": null,
      "outputs": []
    },
    {
      "cell_type": "markdown",
      "source": [
        "## Transform the Dataset"
      ],
      "metadata": {
        "id": "xPtjCwZtxhVP"
      }
    },
    {
      "cell_type": "code",
      "source": [
        "def vectorize_data(id_text, en_text):\n",
        "    tfed_id = id_vectorizer(id_text)\n",
        "    tfed_en = en_vectorizer(en_text)\n",
        "\n",
        "    return ({\"enc_inputs\": tfed_id, \"dec_inputs\": tfed_en[:, :-1],}, tfed_en[:, 1:])"
      ],
      "metadata": {
        "id": "wrGuXlMYxjbh"
      },
      "execution_count": null,
      "outputs": []
    },
    {
      "cell_type": "code",
      "source": [
        "def transform_dataset(pairs, batch_size=64):\n",
        "    lang_1, lang_2 = split_data_lang(pairs)\n",
        "    dataset = tf.data.Dataset.from_tensor_slices((lang_1, lang_2))\n",
        "    dataset = dataset.batch(batch_size)\n",
        "    dataset = dataset.map(vectorize_data)\n",
        "    return dataset.shuffle(2048).prefetch(16).cache()"
      ],
      "metadata": {
        "id": "YoNv4JiV33oX"
      },
      "execution_count": null,
      "outputs": []
    },
    {
      "cell_type": "markdown",
      "source": [
        "# Transformer"
      ],
      "metadata": {
        "id": "osdpq-GuANiU"
      }
    },
    {
      "cell_type": "markdown",
      "source": [
        "## Encoder"
      ],
      "metadata": {
        "id": "3qRA9elKseuH"
      }
    },
    {
      "cell_type": "markdown",
      "source": [
        "The `Encoder` consists of a `Multi-Head Attention` layer, `Normalization` layer, and fully-connected `Dense` layer, will receive the training sequences as input and produce new representation of the sequence and pass it to the `Decoder`."
      ],
      "metadata": {
        "id": "wFaq3qkOtjmq"
      }
    },
    {
      "cell_type": "code",
      "source": [
        "class Encoder(layers.Layer):\n",
        "    def __init__(self, embed_dim, dense_dim, n_heads, **kwargs):\n",
        "        super(Encoder, self).__init__(**kwargs)\n",
        "\n",
        "        self.embed_dim = embed_dim\n",
        "        self.dense_dim = dense_dim\n",
        "        self.n_heads = n_heads\n",
        "        self.supports_masking = True\n",
        "\n",
        "        self.attention = layers.MultiHeadAttention(\n",
        "            num_heads=n_heads, key_dim=embed_dim\n",
        "        )\n",
        "        self.dense_proj = keras.Sequential(\n",
        "            [\n",
        "                layers.Dense(dense_dim, activation=\"relu\"),\n",
        "                layers.Dense(embed_dim),\n",
        "            ]\n",
        "        )\n",
        "        \n",
        "        self.norm_1 = layers.LayerNormalization()\n",
        "        self.norm_2 = layers.LayerNormalization()\n",
        "\n",
        "    def call(self, inputs, mask=None):\n",
        "        if mask is not None:\n",
        "            padding_mask = tf.cast(mask[:, tf.newaxis, tf.newaxis, :], dtype=\"int32\")\n",
        "    \n",
        "        attention_output = self.attention(\n",
        "            query=inputs, value=inputs, key=inputs, attention_mask=padding_mask\n",
        "        )\n",
        "\n",
        "        proj_input = self.norm_1(inputs + attention_output)\n",
        "        proj_output = self.dense_proj(proj_input)\n",
        "\n",
        "        return self.norm_2(proj_input + proj_output)\n",
        "\n",
        "    def get_config(self):\n",
        "        config = super().get_config()\n",
        "        config.update({\n",
        "            \"embed_dim\": self.embed_dim,\n",
        "            \"dense_dim\": self.dense_dim,\n",
        "            \"n_heads\": self.n_heads,\n",
        "        })\n",
        "\n",
        "        return config"
      ],
      "metadata": {
        "id": "Uf0jAC3tshR7"
      },
      "execution_count": null,
      "outputs": []
    },
    {
      "cell_type": "markdown",
      "source": [
        "## Decoder"
      ],
      "metadata": {
        "id": "a1h7ZbX8th8m"
      }
    },
    {
      "cell_type": "markdown",
      "source": [
        "Aside of the output from the `Encoder`, the `Decoder` also receives the target sequences that will be predicted later on. Because of it, we ensure that the `Decoder` cannot peek to the future by masking the information of the sequences after the target prediction."
      ],
      "metadata": {
        "id": "nSJKew7Z1jjf"
      }
    },
    {
      "cell_type": "code",
      "source": [
        "class Decoder(layers.Layer):\n",
        "    def __init__(self, embed_dim, latent_dim, n_heads, **kwargs):\n",
        "        super(Decoder, self).__init__(**kwargs)\n",
        "\n",
        "        self.n_heads = n_heads\n",
        "        self.embed_dim = embed_dim\n",
        "        self.supports_masking = True\n",
        "        self.latent_dim = latent_dim\n",
        "\n",
        "        self.attention_1 = layers.MultiHeadAttention(\n",
        "            num_heads=n_heads, key_dim=embed_dim\n",
        "        )\n",
        "        self.attention_2 = layers.MultiHeadAttention(\n",
        "            num_heads=n_heads, key_dim=embed_dim\n",
        "        )\n",
        "\n",
        "        self.dense_proj = keras.Sequential(\n",
        "            [\n",
        "                layers.Dense(latent_dim, activation=\"relu\"), \n",
        "                layers.Dense(embed_dim),\n",
        "            ]\n",
        "        )\n",
        "        self.norm_1 = layers.LayerNormalization()\n",
        "        self.norm_2 = layers.LayerNormalization()\n",
        "        self.norm_3 = layers.LayerNormalization()\n",
        "\n",
        "    def get_causal_mask(self, inputs):\n",
        "        input_shape = tf.shape(inputs)\n",
        "        batch_size, sequence_length = input_shape[0], input_shape[1]\n",
        "        i = tf.range(sequence_length)[:, tf.newaxis]\n",
        "        j = tf.range(sequence_length)\n",
        "\n",
        "        mask = tf.cast(i >= j, dtype=\"int32\")\n",
        "        mask = tf.reshape(mask, (1, input_shape[1], input_shape[1]))\n",
        "        mult = tf.concat(\n",
        "            [\n",
        "                tf.expand_dims(batch_size, -1), \n",
        "                tf.constant([1, 1], dtype=tf.int32)\n",
        "            ],\n",
        "            axis=0,\n",
        "        )\n",
        "\n",
        "        return tf.tile(mask, mult)\n",
        "\n",
        "    def call(self, inputs, encoder_outputs, mask=None):\n",
        "        causal_mask = self.get_causal_mask(inputs)\n",
        "        if mask is not None:\n",
        "            padding_mask = tf.cast(mask[:, tf.newaxis, :], dtype=\"int32\")\n",
        "            padding_mask = tf.minimum(padding_mask, causal_mask)\n",
        "\n",
        "        attention_output_1 = self.attention_1(\n",
        "            query=inputs, value=inputs, key=inputs, attention_mask=causal_mask\n",
        "        )\n",
        "        out_1 = self.norm_1(inputs + attention_output_1)\n",
        "\n",
        "        attention_output_2 = self.attention_2(\n",
        "            query=out_1,\n",
        "            value=encoder_outputs,\n",
        "            key=encoder_outputs,\n",
        "            attention_mask=padding_mask,\n",
        "        )\n",
        "        out_2 = self.norm_2(out_1 + attention_output_2)\n",
        "        proj_output = self.dense_proj(out_2)\n",
        "\n",
        "        return self.norm_3(out_2 + proj_output)\n",
        "\n",
        "    def get_config(self):\n",
        "        config = super().get_config()\n",
        "        config.update({\n",
        "            \"embed_dim\": self.embed_dim,\n",
        "            \"latent_dim\": self.latent_dim,\n",
        "            \"n_heads\": self.n_heads,\n",
        "        })\n",
        "\n",
        "        return config"
      ],
      "metadata": {
        "id": "lJ28W5iTt05C"
      },
      "execution_count": null,
      "outputs": []
    },
    {
      "cell_type": "markdown",
      "source": [
        "## Positional Embeddings"
      ],
      "metadata": {
        "id": "80inp10CTxHl"
      }
    },
    {
      "cell_type": "markdown",
      "source": [
        "We need `Positional Embeddings` to make sure that the model built later will be aware of the orders behind the sequences of every words."
      ],
      "metadata": {
        "id": "FxQuHZXsT0yW"
      }
    },
    {
      "cell_type": "code",
      "source": [
        "class PositionalEmbedding(layers.Layer):\n",
        "    def __init__(self, seq_len, vocab_size, embed_dim, **kwargs):\n",
        "        super(PositionalEmbedding, self).__init__(**kwargs)\n",
        "\n",
        "        self.seq_len = seq_len\n",
        "        self.vocab_size = vocab_size\n",
        "        self.embed_dim = embed_dim\n",
        "\n",
        "        self.token_embeddings = layers.Embedding(\n",
        "            input_dim=vocab_size, output_dim=embed_dim\n",
        "        )\n",
        "        self.position_embeddings = layers.Embedding(\n",
        "            input_dim=seq_len, output_dim=embed_dim\n",
        "        )\n",
        "\n",
        "    def compute_mask(self, inputs, mask=None):\n",
        "        return tf.math.not_equal(inputs, 0)\n",
        "\n",
        "    def call(self, inputs):\n",
        "        length = tf.shape(inputs)[-1]\n",
        "        positions = tf.range(start=0, limit=length, delta=1)\n",
        "        embedded_tokens = self.token_embeddings(inputs)\n",
        "        embedded_positions = self.position_embeddings(positions)\n",
        "\n",
        "        return embedded_tokens + embedded_positions\n",
        "\n",
        "    def get_config(self):\n",
        "        config = super().get_config()\n",
        "        config.update({\n",
        "            \"seq_len\": self.seq_len,\n",
        "            \"vocab_size\": self.vocab_size,\n",
        "            \"embed_dim\": self.embed_dim,\n",
        "        })\n",
        "\n",
        "        return config"
      ],
      "metadata": {
        "id": "e0k6rNO_Ty8X"
      },
      "execution_count": null,
      "outputs": []
    },
    {
      "cell_type": "markdown",
      "source": [
        "# Building the Model"
      ],
      "metadata": {
        "id": "Dl3eoWMFUyrt"
      }
    },
    {
      "cell_type": "code",
      "source": [
        "# Model Builder\n",
        "def build_model(hp):\n",
        "    vocab_size = 20000\n",
        "    seq_len = 223\n",
        "    # Hyperparameters\n",
        "    # Embed dim -> dim of input token vectors\n",
        "    # Latent dim -> dim of dense layer\n",
        "    # Num heads -> number of multi-heads attention layer\n",
        "    hp_embed_dim = hp.Int(\"embed_dim\", min_value=32, max_value=128, step=32)\n",
        "    hp_latent_dim = hp.Choice(\"latent_dim\", values=[1024, 2048])\n",
        "    hp_num_heads = hp.Choice(\"num_heads\", values=[4, 8, 16])\n",
        "\n",
        "    # Encoder\n",
        "    encoder_inputs = keras.Input(shape=(None,), dtype=\"int64\", name=\"enc_inputs\")\n",
        "    tf = PositionalEmbedding(seq_len, vocab_size, hp_embed_dim)(encoder_inputs)\n",
        "    encoder_outputs = Encoder(hp_embed_dim, hp_latent_dim, hp_num_heads)(tf)\n",
        "    encoder = keras.Model(encoder_inputs, encoder_outputs)\n",
        "\n",
        "    # Decoder Inputs\n",
        "    decoder_inputs = keras.Input(shape=(None,), dtype=\"int64\", name=\"dec_inputs\")\n",
        "    encoded_seq_inputs = keras.Input(shape=(None, hp_embed_dim), name=\"dec_state_inputs\")\n",
        "\n",
        "    # Positional Embeddings\n",
        "    tf = PositionalEmbedding(seq_len, vocab_size, hp_embed_dim)(decoder_inputs)\n",
        "    tf = Decoder(hp_embed_dim, hp_latent_dim, hp_num_heads)(tf, encoded_seq_inputs)\n",
        "    tf = layers.Dropout(0.5)(tf)\n",
        "\n",
        "    # Decoder Outputs\n",
        "    decoder_outputs = layers.Dense(vocab_size, activation=\"softmax\")(tf)\n",
        "    decoder = keras.Model([decoder_inputs, encoded_seq_inputs], decoder_outputs)\n",
        "    decoder_outputs = decoder([decoder_inputs, encoder_outputs])\n",
        "\n",
        "    # Combine the components\n",
        "    transformer = keras.Model(\n",
        "        [encoder_inputs, decoder_inputs], decoder_outputs, name=\"vanilla_transformer\"\n",
        "    )\n",
        "\n",
        "    transformer.compile(loss='sparse_categorical_crossentropy', optimizer=\"rmsprop\", metrics=[\"accuracy\"])\n",
        "\n",
        "    return transformer"
      ],
      "metadata": {
        "id": "LVn1CapdU3Mx"
      },
      "execution_count": null,
      "outputs": []
    },
    {
      "cell_type": "code",
      "source": [
        "def create_tuner():\n",
        "    tuner = kt.Hyperband(build_model,\n",
        "                         objective='val_loss',\n",
        "                         max_epochs=4,\n",
        "                         factor=3,\n",
        "                         directory='models',\n",
        "                         project_name='nlp-lang-trans')\n",
        "    \n",
        "    cb = EarlyStopping(monitor='val_loss', patience=5)\n",
        "\n",
        "    return tuner, cb"
      ],
      "metadata": {
        "id": "8qwxyWiAwx90"
      },
      "execution_count": null,
      "outputs": []
    },
    {
      "cell_type": "code",
      "source": [
        "def execute_tuning(tuner, cb, train, val, epochs=2):\n",
        "    tuner.search(train, epochs=epochs, validation_data=val, callbacks=[cb])\n",
        "    best_hps = tuner.get_best_hyperparameters(num_trials=1)[0]\n",
        "\n",
        "    return tuner, best_hps"
      ],
      "metadata": {
        "id": "Xe2elo_2xflW"
      },
      "execution_count": null,
      "outputs": []
    },
    {
      "cell_type": "code",
      "source": [
        "# Create and train the hyper model\n",
        "def fit_train(tuner, best_hps, train, val, epochs=30):\n",
        "    hypermodel = tuner.hypermodel.build(best_hps)\n",
        "    history = hypermodel.fit(train, epochs=epochs, validation_data=val)\n",
        "    \n",
        "    val_acc_per_epoch = history.history['val_accuracy']\n",
        "    best_epoch = val_acc_per_epoch.index(max(val_acc_per_epoch)) + 1\n",
        "\n",
        "    hypermodel = tuner.hypermodel.build(best_hps)\n",
        "\n",
        "    # Retrain the model\n",
        "    hypermodel.fit(train, epochs=best_epoch, validation_data=val)\n",
        "\n",
        "    return hypermodel"
      ],
      "metadata": {
        "id": "-1dL2QeA1-yi"
      },
      "execution_count": null,
      "outputs": []
    },
    {
      "cell_type": "markdown",
      "source": [
        "# Evaluation"
      ],
      "metadata": {
        "id": "lJg4UoPSjxfy"
      }
    },
    {
      "cell_type": "code",
      "source": [
        "# Predict\n",
        "def predict(model, input_sentence, input_vectorizer, output_vectorizer, max_seq_len):\n",
        "    output_vocab = output_vectorizer.get_vocabulary()\n",
        "    output_lookup = dict(zip(range(len(output_vocab)), output_vocab))\n",
        "\n",
        "    tokenized_input = input_vectorizer([input_sentence])\n",
        "    output = \"thisissos\"\n",
        "\n",
        "    for i in range(max_seq_len):\n",
        "        tokenized_target = output_vectorizer([output])[:, :-1]\n",
        "        predictions = model([tokenized_input, tokenized_target])\n",
        "\n",
        "        sampled_token_index = np.argmax(predictions[0, i, :])\n",
        "        sampled_token = output_lookup[sampled_token_index]\n",
        "        output += \" \" + sampled_token\n",
        "\n",
        "        if sampled_token == \"thisiseos\":\n",
        "            break\n",
        "\n",
        "    return output"
      ],
      "metadata": {
        "id": "KeStOfpDHsEV"
      },
      "execution_count": null,
      "outputs": []
    },
    {
      "cell_type": "code",
      "source": [
        "# Evaluate the Model\n",
        "def evaluate(model, input_vectorizer, output_vectorizer, max_seq_len, test_pairs, sf=SmoothingFunction().method7):\n",
        "    hypotheses = []\n",
        "    references = []\n",
        "    for input, output in test_pairs:\n",
        "        translated = predict(model, input, input_vectorizer, output_vectorizer, max_seq_len)\n",
        "        hypotheses.append(translated)\n",
        "        references.append(output.split())\n",
        "        \n",
        "    bleu_score = corpus_bleu(references, hypotheses, smoothing_function=sf)\n",
        "    return bleu_score"
      ],
      "metadata": {
        "id": "vgoH7ll8X6Bl"
      },
      "execution_count": null,
      "outputs": []
    },
    {
      "cell_type": "markdown",
      "source": [
        "# Export"
      ],
      "metadata": {
        "id": "wzt5EAbKHo7B"
      }
    },
    {
      "cell_type": "code",
      "source": [
        "# Save Transformer Model\n",
        "def save_model(model, path=\"translation.h5\"):\n",
        "    model.save(path)"
      ],
      "metadata": {
        "id": "-tHhxw6lHrEH"
      },
      "execution_count": null,
      "outputs": []
    },
    {
      "cell_type": "code",
      "source": [
        "# Save Vectorizer\n",
        "def save_vectorizer(vectorizer, path):\n",
        "    pickle.dump(\n",
        "        {\n",
        "            \"config\": vectorizer.get_config(),\n",
        "            \"weights\": vectorizer.get_weights(),\n",
        "            \"vocab\": vectorizer.get_vocabulary()\n",
        "        }, \n",
        "        open(path, \"wb\")\n",
        "    )"
      ],
      "metadata": {
        "id": "WlvNHKZRQcE0"
      },
      "execution_count": null,
      "outputs": []
    },
    {
      "cell_type": "code",
      "source": [
        "# Load Transformer Model\n",
        "def load_model(custom_objects, path=\"translation.h5\"):\n",
        "    return keras.models.load_model(path, custom_objects=custom_objects)"
      ],
      "metadata": {
        "id": "43v5uOumOXCH"
      },
      "execution_count": null,
      "outputs": []
    },
    {
      "cell_type": "code",
      "source": [
        "# Load Vectorizer\n",
        "def load_vectorizer(path):\n",
        "    v = pickle.load(open(path, \"rb\"))\n",
        "    vec = TextVectorization.from_config(v[\"config\"])\n",
        "    vec.set_vocabulary(v[\"vocab\"])\n",
        "    return vec"
      ],
      "metadata": {
        "id": "8nfg4ETORWr3"
      },
      "execution_count": null,
      "outputs": []
    },
    {
      "cell_type": "markdown",
      "source": [
        "# End-to-End"
      ],
      "metadata": {
        "id": "iJsOtvva2baQ"
      }
    },
    {
      "cell_type": "markdown",
      "source": [
        "## Vectorizer"
      ],
      "metadata": {
        "id": "0SmJrQSQ3KqI"
      }
    },
    {
      "cell_type": "code",
      "source": [
        "# Split the Dataset\n",
        "train_id, train_en = split_data_lang(train_pairs)"
      ],
      "metadata": {
        "id": "HL0f20a-9_cs"
      },
      "execution_count": null,
      "outputs": []
    },
    {
      "cell_type": "code",
      "source": [
        "# Instantiate the vectorizer\n",
        "id_vectorizer, en_vectorizer = create_vectorizer()"
      ],
      "metadata": {
        "id": "6QGnRcDq2gDk"
      },
      "execution_count": null,
      "outputs": []
    },
    {
      "cell_type": "code",
      "source": [
        "# Adapt the vectorizer\n",
        "adapt_vectorizer(id_vectorizer, train_id)\n",
        "adapt_vectorizer(en_vectorizer, train_en)"
      ],
      "metadata": {
        "id": "J_83GqqR3MZq"
      },
      "execution_count": null,
      "outputs": []
    },
    {
      "cell_type": "code",
      "source": [
        "# Transform the dataset\n",
        "train_data = transform_dataset(train_pairs)\n",
        "val_data = transform_dataset(val_pairs)\n",
        "test_data = [pair[0] for pair in test_pairs]"
      ],
      "metadata": {
        "id": "hToNgw3H7SUT"
      },
      "execution_count": null,
      "outputs": []
    },
    {
      "cell_type": "markdown",
      "source": [
        "## Model Training"
      ],
      "metadata": {
        "id": "IliqcsNjW1N8"
      }
    },
    {
      "cell_type": "code",
      "source": [
        "tuner, cb = create_tuner()\n",
        "tuner, best_hps = execute_tuning(tuner, cb, train_data, val_data)"
      ],
      "metadata": {
        "id": "qqrfioW_1vkt",
        "colab": {
          "base_uri": "https://localhost:8080/"
        },
        "outputId": "e45cd3ee-9bc0-4ade-ce45-908d3bfef330"
      },
      "execution_count": null,
      "outputs": [
        {
          "output_type": "stream",
          "name": "stdout",
          "text": [
            "Trial 10 Complete [00h 04m 47s]\n",
            "val_loss: 0.14645525813102722\n",
            "\n",
            "Best val_loss So Far: 0.11296574026346207\n",
            "Total elapsed time: 00h 39m 53s\n"
          ]
        }
      ]
    },
    {
      "cell_type": "code",
      "source": [
        "# Tuning results\n",
        "print(best_hps.get(\"embed_dim\"))\n",
        "print(best_hps.get(\"latent_dim\"))\n",
        "print(best_hps.get(\"num_heads\"))"
      ],
      "metadata": {
        "id": "yEsTGxld5Rmj",
        "colab": {
          "base_uri": "https://localhost:8080/"
        },
        "outputId": "b291bd40-ca69-47a0-d10b-e42ea983d09b"
      },
      "execution_count": null,
      "outputs": [
        {
          "output_type": "stream",
          "name": "stdout",
          "text": [
            "128\n",
            "1024\n",
            "8\n"
          ]
        }
      ]
    },
    {
      "cell_type": "code",
      "source": [
        "# Train model with best epoch and hyperparameters\n",
        "hypermodel = fit_train(tuner, best_hps, train_data, val_data)"
      ],
      "metadata": {
        "id": "dGFrbAhX13mV",
        "colab": {
          "base_uri": "https://localhost:8080/"
        },
        "outputId": "81416234-8968-4c4c-88c7-a35b29d74087"
      },
      "execution_count": null,
      "outputs": [
        {
          "output_type": "stream",
          "name": "stdout",
          "text": [
            "Epoch 1/30\n",
            "174/174 [==============================] - 96s 533ms/step - loss: 0.1938 - accuracy: 0.3008 - val_loss: 0.1553 - val_accuracy: 0.3739\n",
            "Epoch 2/30\n",
            "174/174 [==============================] - 92s 531ms/step - loss: 0.1510 - accuracy: 0.4011 - val_loss: 0.1321 - val_accuracy: 0.4482\n",
            "Epoch 3/30\n",
            "174/174 [==============================] - 92s 530ms/step - loss: 0.1364 - accuracy: 0.4468 - val_loss: 0.1205 - val_accuracy: 0.4848\n",
            "Epoch 4/30\n",
            "174/174 [==============================] - 92s 529ms/step - loss: 0.1259 - accuracy: 0.4830 - val_loss: 0.1102 - val_accuracy: 0.5225\n",
            "Epoch 5/30\n",
            "174/174 [==============================] - 92s 531ms/step - loss: 0.1170 - accuracy: 0.5171 - val_loss: 0.0998 - val_accuracy: 0.5678\n",
            "Epoch 6/30\n",
            "174/174 [==============================] - 92s 530ms/step - loss: 0.1094 - accuracy: 0.5446 - val_loss: 0.0924 - val_accuracy: 0.5972\n",
            "Epoch 7/30\n",
            "174/174 [==============================] - 92s 530ms/step - loss: 0.1023 - accuracy: 0.5722 - val_loss: 0.0870 - val_accuracy: 0.6219\n",
            "Epoch 8/30\n",
            "174/174 [==============================] - 92s 529ms/step - loss: 0.0964 - accuracy: 0.5935 - val_loss: 0.0822 - val_accuracy: 0.6368\n",
            "Epoch 9/30\n",
            "174/174 [==============================] - 92s 531ms/step - loss: 0.0913 - accuracy: 0.6125 - val_loss: 0.0756 - val_accuracy: 0.6714\n",
            "Epoch 10/30\n",
            "174/174 [==============================] - 92s 530ms/step - loss: 0.0866 - accuracy: 0.6314 - val_loss: 0.0719 - val_accuracy: 0.6795\n",
            "Epoch 11/30\n",
            "174/174 [==============================] - 92s 529ms/step - loss: 0.0822 - accuracy: 0.6487 - val_loss: 0.0676 - val_accuracy: 0.7052\n",
            "Epoch 12/30\n",
            "174/174 [==============================] - 92s 529ms/step - loss: 0.0783 - accuracy: 0.6649 - val_loss: 0.0640 - val_accuracy: 0.7172\n",
            "Epoch 13/30\n",
            "174/174 [==============================] - 92s 531ms/step - loss: 0.0751 - accuracy: 0.6782 - val_loss: 0.0615 - val_accuracy: 0.7313\n",
            "Epoch 14/30\n",
            "174/174 [==============================] - 92s 532ms/step - loss: 0.0721 - accuracy: 0.6914 - val_loss: 0.0590 - val_accuracy: 0.7397\n",
            "Epoch 15/30\n",
            "174/174 [==============================] - 92s 531ms/step - loss: 0.0693 - accuracy: 0.7018 - val_loss: 0.0566 - val_accuracy: 0.7566\n",
            "Epoch 16/30\n",
            "174/174 [==============================] - 92s 530ms/step - loss: 0.0669 - accuracy: 0.7125 - val_loss: 0.0554 - val_accuracy: 0.7614\n",
            "Epoch 17/30\n",
            "174/174 [==============================] - 92s 529ms/step - loss: 0.0651 - accuracy: 0.7224 - val_loss: 0.0549 - val_accuracy: 0.7637\n",
            "Epoch 18/30\n",
            "174/174 [==============================] - 92s 531ms/step - loss: 0.0637 - accuracy: 0.7299 - val_loss: 0.0532 - val_accuracy: 0.7750\n",
            "Epoch 19/30\n",
            "174/174 [==============================] - 92s 529ms/step - loss: 0.0623 - accuracy: 0.7394 - val_loss: 0.0521 - val_accuracy: 0.7846\n",
            "Epoch 20/30\n",
            "174/174 [==============================] - 92s 529ms/step - loss: 0.0610 - accuracy: 0.7469 - val_loss: 0.0512 - val_accuracy: 0.7888\n",
            "Epoch 21/30\n",
            "174/174 [==============================] - 92s 528ms/step - loss: 0.0600 - accuracy: 0.7529 - val_loss: 0.0497 - val_accuracy: 0.8006\n",
            "Epoch 22/30\n",
            "174/174 [==============================] - 92s 530ms/step - loss: 0.0590 - accuracy: 0.7603 - val_loss: 0.0501 - val_accuracy: 0.8002\n",
            "Epoch 23/30\n",
            "174/174 [==============================] - 92s 529ms/step - loss: 0.0580 - accuracy: 0.7676 - val_loss: 0.0491 - val_accuracy: 0.8081\n",
            "Epoch 24/30\n",
            "174/174 [==============================] - 92s 530ms/step - loss: 0.0570 - accuracy: 0.7726 - val_loss: 0.0494 - val_accuracy: 0.8044\n",
            "Epoch 25/30\n",
            "174/174 [==============================] - 92s 530ms/step - loss: 0.0564 - accuracy: 0.7790 - val_loss: 0.0479 - val_accuracy: 0.8193\n",
            "Epoch 26/30\n",
            "174/174 [==============================] - 92s 529ms/step - loss: 0.0555 - accuracy: 0.7835 - val_loss: 0.0472 - val_accuracy: 0.8192\n",
            "Epoch 27/30\n",
            "174/174 [==============================] - 92s 529ms/step - loss: 0.0548 - accuracy: 0.7879 - val_loss: 0.0469 - val_accuracy: 0.8194\n",
            "Epoch 28/30\n",
            "174/174 [==============================] - 92s 528ms/step - loss: 0.0542 - accuracy: 0.7923 - val_loss: 0.0459 - val_accuracy: 0.8269\n",
            "Epoch 29/30\n",
            "174/174 [==============================] - 91s 527ms/step - loss: 0.0533 - accuracy: 0.7972 - val_loss: 0.0456 - val_accuracy: 0.8289\n",
            "Epoch 30/30\n",
            "174/174 [==============================] - 92s 528ms/step - loss: 0.0529 - accuracy: 0.7996 - val_loss: 0.0451 - val_accuracy: 0.8318\n",
            "Epoch 1/30\n",
            "174/174 [==============================] - 96s 533ms/step - loss: 0.1932 - accuracy: 0.3046 - val_loss: 0.1543 - val_accuracy: 0.3774\n",
            "Epoch 2/30\n",
            "174/174 [==============================] - 92s 532ms/step - loss: 0.1509 - accuracy: 0.4016 - val_loss: 0.1353 - val_accuracy: 0.4381\n",
            "Epoch 3/30\n",
            "174/174 [==============================] - 92s 532ms/step - loss: 0.1369 - accuracy: 0.4450 - val_loss: 0.1198 - val_accuracy: 0.4884\n",
            "Epoch 4/30\n",
            "174/174 [==============================] - 92s 531ms/step - loss: 0.1263 - accuracy: 0.4804 - val_loss: 0.1146 - val_accuracy: 0.5124\n",
            "Epoch 5/30\n",
            "174/174 [==============================] - 93s 533ms/step - loss: 0.1175 - accuracy: 0.5136 - val_loss: 0.1015 - val_accuracy: 0.5579\n",
            "Epoch 6/30\n",
            "174/174 [==============================] - 92s 531ms/step - loss: 0.1096 - accuracy: 0.5442 - val_loss: 0.0939 - val_accuracy: 0.5882\n",
            "Epoch 7/30\n",
            "174/174 [==============================] - 92s 530ms/step - loss: 0.1025 - accuracy: 0.5696 - val_loss: 0.0870 - val_accuracy: 0.6165\n",
            "Epoch 8/30\n",
            "174/174 [==============================] - 92s 530ms/step - loss: 0.0966 - accuracy: 0.5924 - val_loss: 0.0806 - val_accuracy: 0.6407\n",
            "Epoch 9/30\n",
            "174/174 [==============================] - 92s 529ms/step - loss: 0.0912 - accuracy: 0.6129 - val_loss: 0.0757 - val_accuracy: 0.6708\n",
            "Epoch 10/30\n",
            "174/174 [==============================] - 92s 530ms/step - loss: 0.0864 - accuracy: 0.6301 - val_loss: 0.0703 - val_accuracy: 0.6899\n",
            "Epoch 11/30\n",
            "174/174 [==============================] - 92s 530ms/step - loss: 0.0821 - accuracy: 0.6490 - val_loss: 0.0670 - val_accuracy: 0.7054\n",
            "Epoch 12/30\n",
            "174/174 [==============================] - 92s 529ms/step - loss: 0.0785 - accuracy: 0.6631 - val_loss: 0.0650 - val_accuracy: 0.7082\n",
            "Epoch 13/30\n",
            "174/174 [==============================] - 92s 529ms/step - loss: 0.0750 - accuracy: 0.6772 - val_loss: 0.0611 - val_accuracy: 0.7317\n",
            "Epoch 14/30\n",
            "174/174 [==============================] - 92s 530ms/step - loss: 0.0718 - accuracy: 0.6912 - val_loss: 0.0595 - val_accuracy: 0.7341\n",
            "Epoch 15/30\n",
            "174/174 [==============================] - 92s 528ms/step - loss: 0.0692 - accuracy: 0.7023 - val_loss: 0.0569 - val_accuracy: 0.7501\n",
            "Epoch 16/30\n",
            "174/174 [==============================] - 92s 532ms/step - loss: 0.0669 - accuracy: 0.7119 - val_loss: 0.0561 - val_accuracy: 0.7633\n",
            "Epoch 17/30\n",
            "174/174 [==============================] - 92s 531ms/step - loss: 0.0650 - accuracy: 0.7228 - val_loss: 0.0544 - val_accuracy: 0.7641\n",
            "Epoch 18/30\n",
            "174/174 [==============================] - 92s 530ms/step - loss: 0.0636 - accuracy: 0.7320 - val_loss: 0.0526 - val_accuracy: 0.7804\n",
            "Epoch 19/30\n",
            "174/174 [==============================] - 92s 529ms/step - loss: 0.0623 - accuracy: 0.7402 - val_loss: 0.0520 - val_accuracy: 0.7838\n",
            "Epoch 20/30\n",
            "174/174 [==============================] - 92s 529ms/step - loss: 0.0611 - accuracy: 0.7466 - val_loss: 0.0528 - val_accuracy: 0.7809\n",
            "Epoch 21/30\n",
            "174/174 [==============================] - 92s 528ms/step - loss: 0.0600 - accuracy: 0.7547 - val_loss: 0.0502 - val_accuracy: 0.7976\n",
            "Epoch 22/30\n",
            "174/174 [==============================] - 92s 528ms/step - loss: 0.0590 - accuracy: 0.7608 - val_loss: 0.0498 - val_accuracy: 0.8049\n",
            "Epoch 23/30\n",
            "174/174 [==============================] - 92s 529ms/step - loss: 0.0580 - accuracy: 0.7683 - val_loss: 0.0491 - val_accuracy: 0.8083\n",
            "Epoch 24/30\n",
            "174/174 [==============================] - 92s 530ms/step - loss: 0.0572 - accuracy: 0.7747 - val_loss: 0.0480 - val_accuracy: 0.8173\n",
            "Epoch 25/30\n",
            "174/174 [==============================] - 92s 530ms/step - loss: 0.0563 - accuracy: 0.7787 - val_loss: 0.0474 - val_accuracy: 0.8183\n",
            "Epoch 26/30\n",
            "174/174 [==============================] - 92s 530ms/step - loss: 0.0556 - accuracy: 0.7837 - val_loss: 0.0471 - val_accuracy: 0.8212\n",
            "Epoch 27/30\n",
            "174/174 [==============================] - 92s 529ms/step - loss: 0.0547 - accuracy: 0.7890 - val_loss: 0.0463 - val_accuracy: 0.8267\n",
            "Epoch 28/30\n",
            "174/174 [==============================] - 92s 530ms/step - loss: 0.0539 - accuracy: 0.7937 - val_loss: 0.0461 - val_accuracy: 0.8267\n",
            "Epoch 29/30\n",
            "174/174 [==============================] - 92s 530ms/step - loss: 0.0535 - accuracy: 0.7954 - val_loss: 0.0464 - val_accuracy: 0.8259\n",
            "Epoch 30/30\n",
            "174/174 [==============================] - 92s 529ms/step - loss: 0.0528 - accuracy: 0.7991 - val_loss: 0.0450 - val_accuracy: 0.8324\n"
          ]
        }
      ]
    },
    {
      "cell_type": "markdown",
      "source": [
        "## Model Saving"
      ],
      "metadata": {
        "id": "I5Zh8h8wLueE"
      }
    },
    {
      "cell_type": "code",
      "source": [
        "# Save the Model\n",
        "save_model(hypermodel)"
      ],
      "metadata": {
        "id": "Ftn60SO6Lxdk"
      },
      "execution_count": null,
      "outputs": []
    },
    {
      "cell_type": "code",
      "source": [
        "# Save the Vectorizer\n",
        "save_vectorizer(id_vectorizer, \"id_vectorizer.pkl\")\n",
        "save_vectorizer(en_vectorizer, \"en_vectorizer.pkl\")"
      ],
      "metadata": {
        "id": "Vht53IrtTZQW"
      },
      "execution_count": null,
      "outputs": []
    },
    {
      "cell_type": "markdown",
      "source": [
        "## Model Evaluation"
      ],
      "metadata": {
        "id": "v0i3IVcnFLmN"
      }
    },
    {
      "cell_type": "code",
      "source": [
        "# Evaluate with Corpus-Level BLEU Score\n",
        "evaluate(hypermodel, id_vectorizer, en_vectorizer, max_seq_len, test_pairs)"
      ],
      "metadata": {
        "id": "spEuT4AwJBHt",
        "colab": {
          "base_uri": "https://localhost:8080/"
        },
        "outputId": "e07d95c4-c28b-4184-a77a-75161a25fb6d"
      },
      "execution_count": null,
      "outputs": [
        {
          "output_type": "execute_result",
          "data": {
            "text/plain": [
              "0.4021032423522424"
            ]
          },
          "metadata": {},
          "execution_count": 39
        }
      ]
    },
    {
      "cell_type": "markdown",
      "source": [
        "# Error Analysis"
      ],
      "metadata": {
        "id": "44NqYKWKhqP5"
      }
    },
    {
      "cell_type": "markdown",
      "source": [
        "## Saving Data Distribution for Further Analysis"
      ],
      "metadata": {
        "id": "OVN59c5rjek2"
      }
    },
    {
      "cell_type": "code",
      "source": [
        "with open('train.json', 'w') as f:\n",
        "    json.dump(train_pairs,f)"
      ],
      "metadata": {
        "id": "PVeqRAKChvMf"
      },
      "execution_count": null,
      "outputs": []
    },
    {
      "cell_type": "code",
      "source": [
        "with open('val.json', 'w') as f:\n",
        "    json.dump(val_pairs,f)"
      ],
      "metadata": {
        "id": "cvKOqezvh5YO"
      },
      "execution_count": null,
      "outputs": []
    },
    {
      "cell_type": "code",
      "source": [
        "with open('test.json', 'w') as f:\n",
        "    json.dump(test_pairs,f)"
      ],
      "metadata": {
        "id": "tF3Lrqh6hyJR"
      },
      "execution_count": null,
      "outputs": []
    },
    {
      "cell_type": "markdown",
      "source": [
        "## Analysis"
      ],
      "metadata": {
        "id": "ISEtl7PKjnKw"
      }
    },
    {
      "cell_type": "code",
      "source": [
        "def load_data(path):\n",
        "    with open(path) as f:\n",
        "        lst = [tuple(x) for x in json.load(f)]\n",
        "        return lst"
      ],
      "metadata": {
        "id": "OvL8xGfOh4wB"
      },
      "execution_count": null,
      "outputs": []
    },
    {
      "cell_type": "code",
      "source": [
        "loaded_train = load_data(\"train.json\")\n",
        "loaded_val = load_data(\"val.json\")\n",
        "loaded_test = load_data(\"test.json\")"
      ],
      "metadata": {
        "id": "Lj2otj1Olkqr"
      },
      "execution_count": null,
      "outputs": []
    }
  ]
}