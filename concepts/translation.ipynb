{
  "nbformat": 4,
  "nbformat_minor": 0,
  "metadata": {
    "colab": {
      "provenance": [],
      "collapsed_sections": [
        "RqRETuqQsEHf",
        "3P7rLx61r7BS",
        "66VL-87g0V_9",
        "cQb4Oyhye_D6",
        "xD-OEcuFruXg",
        "ygyl7p_RgLXh",
        "RRhJgioJhpv5",
        "59Zk7yD8wlWM",
        "MirImBlAwmim",
        "xPtjCwZtxhVP",
        "osdpq-GuANiU",
        "3qRA9elKseuH",
        "a1h7ZbX8th8m",
        "80inp10CTxHl",
        "Dl3eoWMFUyrt",
        "lJg4UoPSjxfy",
        "wzt5EAbKHo7B",
        "0SmJrQSQ3KqI"
      ]
    },
    "kernelspec": {
      "name": "python3",
      "display_name": "Python 3"
    },
    "language_info": {
      "name": "python"
    },
    "accelerator": "GPU"
  },
  "cells": [
    {
      "cell_type": "markdown",
      "source": [
        "# Libraries"
      ],
      "metadata": {
        "id": "RqRETuqQsEHf"
      }
    },
    {
      "cell_type": "code",
      "source": [
        "import re\n",
        "import pickle\n",
        "import random\n",
        "import string\n",
        "import pathlib\n",
        "import numpy as np\n",
        "import pandas as pd\n",
        "import tensorflow as tf\n",
        "from tensorflow import keras\n",
        "from tensorflow.keras import layers\n",
        "from tensorflow.keras.layers import TextVectorization\n",
        "from nltk.translate.bleu_score import corpus_bleu, SmoothingFunction"
      ],
      "metadata": {
        "id": "1xddbCBOBEEW"
      },
      "execution_count": 1,
      "outputs": []
    },
    {
      "cell_type": "markdown",
      "source": [
        "# Dataset"
      ],
      "metadata": {
        "id": "3P7rLx61r7BS"
      }
    },
    {
      "cell_type": "markdown",
      "source": [
        "The dataset is taken and pre-modified from [Tatoeba](https://tatoeba.org), contains about 13k+ data of Indonesian-English translated sentences."
      ],
      "metadata": {
        "id": "-nUoahNHsIXb"
      }
    },
    {
      "cell_type": "markdown",
      "source": [
        "## Convert Dataset to Tab-Separated Texts"
      ],
      "metadata": {
        "id": "66VL-87g0V_9"
      }
    },
    {
      "cell_type": "code",
      "source": [
        "# One time call\n",
        "# df = pd.read_csv(\"translation.tsv\", sep=\"\\t\")\n",
        "# df.to_csv(\"translation.txt\", header=None, index=None, sep=\"\\t\", mode=\"a\")"
      ],
      "metadata": {
        "id": "EiuYnWNF0pCc"
      },
      "execution_count": 2,
      "outputs": []
    },
    {
      "cell_type": "markdown",
      "source": [
        "## Load the Dataset"
      ],
      "metadata": {
        "id": "vgeeEuWveVsL"
      }
    },
    {
      "cell_type": "code",
      "source": [
        "data_path = \"translation.txt\"\n",
        "with open(data_path) as f:\n",
        "    texts = f.read().split(\"\\n\")[:-1]"
      ],
      "metadata": {
        "id": "XmC-om0heZD5"
      },
      "execution_count": 3,
      "outputs": []
    },
    {
      "cell_type": "markdown",
      "source": [
        "## Add Start-of-Sentence (SOS) and End-of-Sentence (EOS) Token"
      ],
      "metadata": {
        "id": "cQb4Oyhye_D6"
      }
    },
    {
      "cell_type": "code",
      "source": [
        "text_pairs = []\n",
        "\n",
        "for text in texts:\n",
        "    # Split and add the sentence into a tuple pair (ID, EN)\n",
        "    id, en = text.split(\"\\t\")\n",
        "    text_pairs.append((id, f\"thisissos {en} thisiseos\"))"
      ],
      "metadata": {
        "id": "dqQBng1Texlt"
      },
      "execution_count": 4,
      "outputs": []
    },
    {
      "cell_type": "code",
      "source": [
        "random.choice(text_pairs)"
      ],
      "metadata": {
        "colab": {
          "base_uri": "https://localhost:8080/"
        },
        "id": "EySV_vH0eyr-",
        "outputId": "d1d78e53-01ab-4612-f70a-84e3ad6daf70"
      },
      "execution_count": 5,
      "outputs": [
        {
          "output_type": "execute_result",
          "data": {
            "text/plain": [
              "('Aku lebih memilih tinggal di rumah.',\n",
              " 'thisissos I would rather stay at home. thisiseos')"
            ]
          },
          "metadata": {},
          "execution_count": 5
        }
      ]
    },
    {
      "cell_type": "markdown",
      "source": [
        "## Little EDA"
      ],
      "metadata": {
        "id": "xD-OEcuFruXg"
      }
    },
    {
      "cell_type": "code",
      "source": [
        "# Find max number of tokens in a sentence for each language\n",
        "max_seq_len_id = 0\n",
        "max_seq_len_en = 0\n",
        "\n",
        "for pair in text_pairs:\n",
        "    if len(pair[0]) > max_seq_len_id:\n",
        "        max_seq_len_id = len(pair[0])\n",
        "\n",
        "    if len(pair[1]) > max_seq_len_en:\n",
        "        max_seq_len_en = len(pair[1])"
      ],
      "metadata": {
        "id": "v9k8w7r0rtvv"
      },
      "execution_count": 6,
      "outputs": []
    },
    {
      "cell_type": "code",
      "source": [
        "max_seq_len_id, max_seq_len_en"
      ],
      "metadata": {
        "colab": {
          "base_uri": "https://localhost:8080/"
        },
        "id": "RijkhVsPsPv5",
        "outputId": "f580ab5b-72e2-459f-9d83-fdd3c8eb1795"
      },
      "execution_count": 7,
      "outputs": [
        {
          "output_type": "execute_result",
          "data": {
            "text/plain": [
              "(447, 414)"
            ]
          },
          "metadata": {},
          "execution_count": 7
        }
      ]
    },
    {
      "cell_type": "markdown",
      "source": [
        "## Split Dataset"
      ],
      "metadata": {
        "id": "ygyl7p_RgLXh"
      }
    },
    {
      "cell_type": "code",
      "source": [
        "# Shuffle the texts\n",
        "random.shuffle(text_pairs)\n",
        "\n",
        "# Determine the number of each datasets\n",
        "# 10% of validation and test set\n",
        "n_val = int(0.10 * len(text_pairs))\n",
        "n_train = len(text_pairs) - 2 * n_val"
      ],
      "metadata": {
        "id": "dzN6OLfufbCx"
      },
      "execution_count": 8,
      "outputs": []
    },
    {
      "cell_type": "code",
      "source": [
        "# Slice the pairs list\n",
        "train_pairs = text_pairs[: n_train]\n",
        "val_pairs = text_pairs[n_train : n_train + n_val]\n",
        "test_pairs = text_pairs[n_train + n_val :]"
      ],
      "metadata": {
        "id": "KrffmgWIg4qx"
      },
      "execution_count": 9,
      "outputs": []
    },
    {
      "cell_type": "code",
      "source": [
        "len(text_pairs), len(train_pairs), len(val_pairs), len(test_pairs)"
      ],
      "metadata": {
        "colab": {
          "base_uri": "https://localhost:8080/"
        },
        "id": "WFPodSHjhQwE",
        "outputId": "f99c80c1-1dd0-4f2a-8840-d419334bdc55"
      },
      "execution_count": 10,
      "outputs": [
        {
          "output_type": "execute_result",
          "data": {
            "text/plain": [
              "(13846, 11078, 1384, 1384)"
            ]
          },
          "metadata": {},
          "execution_count": 10
        }
      ]
    },
    {
      "cell_type": "markdown",
      "source": [
        "# Vectorization"
      ],
      "metadata": {
        "id": "RRhJgioJhpv5"
      }
    },
    {
      "cell_type": "markdown",
      "source": [
        "## Instantiate the vectorizer"
      ],
      "metadata": {
        "id": "59Zk7yD8wlWM"
      }
    },
    {
      "cell_type": "code",
      "source": [
        "# The output sequence of the vectorizer will be padded to max_seq_len\n",
        "# OOM :(\n",
        "max_seq_len = int(max(max_seq_len_id, max_seq_len_en) / 2)\n",
        "\n",
        "def create_vectorizer(vocab_size=20000):\n",
        "    id_vectorizer = TextVectorization(\n",
        "        max_tokens=vocab_size, \n",
        "        output_mode=\"int\", \n",
        "        output_sequence_length=max_seq_len,\n",
        "        standardize=\"lower_and_strip_punctuation\"\n",
        "    )\n",
        "\n",
        "    en_vectorizer = TextVectorization(\n",
        "        max_tokens=vocab_size,\n",
        "        output_mode=\"int\",\n",
        "        output_sequence_length=max_seq_len + 1,\n",
        "        standardize=\"lower_and_strip_punctuation\",\n",
        "    )\n",
        "\n",
        "    return id_vectorizer, en_vectorizer"
      ],
      "metadata": {
        "id": "ziFhCD9DvE2t"
      },
      "execution_count": 11,
      "outputs": []
    },
    {
      "cell_type": "markdown",
      "source": [
        "## Adapt the Vectorizer"
      ],
      "metadata": {
        "id": "MirImBlAwmim"
      }
    },
    {
      "cell_type": "code",
      "source": [
        "# Split the training set for each language\n",
        "def split_data_lang(pairs):\n",
        "    train_1, train_2 = zip(*train_pairs)\n",
        "    train_1 = list(train_1)\n",
        "    train_2 = list(train_2)\n",
        "\n",
        "    return train_1, train_2"
      ],
      "metadata": {
        "id": "z4ecbpdYwgMx"
      },
      "execution_count": 12,
      "outputs": []
    },
    {
      "cell_type": "code",
      "source": [
        "# Adapt the Vectorizer to the training set\n",
        "def adapt_vectorizer(vectorizer, train_set):\n",
        "    vectorizer.adapt(train_set)"
      ],
      "metadata": {
        "id": "bc6gQ2Shw7WO"
      },
      "execution_count": 13,
      "outputs": []
    },
    {
      "cell_type": "markdown",
      "source": [
        "## Transform the Dataset"
      ],
      "metadata": {
        "id": "xPtjCwZtxhVP"
      }
    },
    {
      "cell_type": "code",
      "source": [
        "def vectorize_data(id_text, en_text):\n",
        "    tfed_id = id_vectorizer(id_text)\n",
        "    tfed_en = en_vectorizer(en_text)\n",
        "\n",
        "    return ({\"enc_inputs\": tfed_id, \"dec_inputs\": tfed_en[:, :-1],}, tfed_en[:, 1:])"
      ],
      "metadata": {
        "id": "wrGuXlMYxjbh"
      },
      "execution_count": 14,
      "outputs": []
    },
    {
      "cell_type": "code",
      "source": [
        "def transform_dataset(pairs, batch_size=64):\n",
        "    lang_1, lang_2 = split_data_lang(pairs)\n",
        "    dataset = tf.data.Dataset.from_tensor_slices((lang_1, lang_2))\n",
        "    dataset = dataset.batch(batch_size)\n",
        "    dataset = dataset.map(vectorize_data)\n",
        "    return dataset.shuffle(2048).prefetch(16).cache()"
      ],
      "metadata": {
        "id": "YoNv4JiV33oX"
      },
      "execution_count": 15,
      "outputs": []
    },
    {
      "cell_type": "markdown",
      "source": [
        "# Transformer"
      ],
      "metadata": {
        "id": "osdpq-GuANiU"
      }
    },
    {
      "cell_type": "markdown",
      "source": [
        "## Encoder"
      ],
      "metadata": {
        "id": "3qRA9elKseuH"
      }
    },
    {
      "cell_type": "markdown",
      "source": [
        "The `Encoder` consists of a `Multi-Head Attention` layer, `Normalization` layer, and fully-connected `Dense` layer, will receive the training sequences as input and produce new representation of the sequence and pass it to the `Decoder`."
      ],
      "metadata": {
        "id": "wFaq3qkOtjmq"
      }
    },
    {
      "cell_type": "code",
      "source": [
        "class Encoder(layers.Layer):\n",
        "    def __init__(self, embed_dim, dense_dim, n_heads, **kwargs):\n",
        "        super(Encoder, self).__init__(**kwargs)\n",
        "\n",
        "        self.embed_dim = embed_dim\n",
        "        self.dense_dim = dense_dim\n",
        "        self.n_heads = n_heads\n",
        "        self.supports_masking = True\n",
        "\n",
        "        self.attention = layers.MultiHeadAttention(\n",
        "            num_heads=n_heads, key_dim=embed_dim\n",
        "        )\n",
        "        self.dense_proj = keras.Sequential(\n",
        "            [\n",
        "                layers.Dense(dense_dim, activation=\"relu\"),\n",
        "                layers.Dense(embed_dim),\n",
        "            ]\n",
        "        )\n",
        "        \n",
        "        self.norm_1 = layers.LayerNormalization()\n",
        "        self.norm_2 = layers.LayerNormalization()\n",
        "\n",
        "    def call(self, inputs, mask=None):\n",
        "        if mask is not None:\n",
        "            padding_mask = tf.cast(mask[:, tf.newaxis, tf.newaxis, :], dtype=\"int32\")\n",
        "    \n",
        "        attention_output = self.attention(\n",
        "            query=inputs, value=inputs, key=inputs, attention_mask=padding_mask\n",
        "        )\n",
        "\n",
        "        proj_input = self.norm_1(inputs + attention_output)\n",
        "        proj_output = self.dense_proj(proj_input)\n",
        "\n",
        "        return self.norm_2(proj_input + proj_output)\n",
        "\n",
        "    def get_config(self):\n",
        "        config = super().get_config()\n",
        "        config.update({\n",
        "            \"embed_dim\": self.embed_dim,\n",
        "            \"dense_dim\": self.dense_dim,\n",
        "            \"n_heads\": self.n_heads,\n",
        "        })\n",
        "\n",
        "        return config"
      ],
      "metadata": {
        "id": "Uf0jAC3tshR7"
      },
      "execution_count": 16,
      "outputs": []
    },
    {
      "cell_type": "markdown",
      "source": [
        "## Decoder"
      ],
      "metadata": {
        "id": "a1h7ZbX8th8m"
      }
    },
    {
      "cell_type": "markdown",
      "source": [
        "Aside of the output from the `Encoder`, the `Decoder` also receives the target sequences that will be predicted later on. Because of it, we ensure that the `Decoder` cannot peek to the future by masking the information of the sequences after the target prediction."
      ],
      "metadata": {
        "id": "nSJKew7Z1jjf"
      }
    },
    {
      "cell_type": "code",
      "source": [
        "class Decoder(layers.Layer):\n",
        "    def __init__(self, embed_dim, latent_dim, n_heads, **kwargs):\n",
        "        super(Decoder, self).__init__(**kwargs)\n",
        "\n",
        "        self.n_heads = n_heads\n",
        "        self.embed_dim = embed_dim\n",
        "        self.supports_masking = True\n",
        "        self.latent_dim = latent_dim\n",
        "\n",
        "        self.attention_1 = layers.MultiHeadAttention(\n",
        "            num_heads=n_heads, key_dim=embed_dim\n",
        "        )\n",
        "        self.attention_2 = layers.MultiHeadAttention(\n",
        "            num_heads=n_heads, key_dim=embed_dim\n",
        "        )\n",
        "\n",
        "        self.dense_proj = keras.Sequential(\n",
        "            [\n",
        "                layers.Dense(latent_dim, activation=\"relu\"), \n",
        "                layers.Dense(embed_dim),\n",
        "            ]\n",
        "        )\n",
        "        self.norm_1 = layers.LayerNormalization()\n",
        "        self.norm_2 = layers.LayerNormalization()\n",
        "        self.norm_3 = layers.LayerNormalization()\n",
        "\n",
        "    def get_causal_mask(self, inputs):\n",
        "        input_shape = tf.shape(inputs)\n",
        "        batch_size, sequence_length = input_shape[0], input_shape[1]\n",
        "        i = tf.range(sequence_length)[:, tf.newaxis]\n",
        "        j = tf.range(sequence_length)\n",
        "\n",
        "        mask = tf.cast(i >= j, dtype=\"int32\")\n",
        "        mask = tf.reshape(mask, (1, input_shape[1], input_shape[1]))\n",
        "        mult = tf.concat(\n",
        "            [\n",
        "                tf.expand_dims(batch_size, -1), \n",
        "                tf.constant([1, 1], dtype=tf.int32)\n",
        "            ],\n",
        "            axis=0,\n",
        "        )\n",
        "\n",
        "        return tf.tile(mask, mult)\n",
        "\n",
        "    def call(self, inputs, encoder_outputs, mask=None):\n",
        "        causal_mask = self.get_causal_mask(inputs)\n",
        "        if mask is not None:\n",
        "            padding_mask = tf.cast(mask[:, tf.newaxis, :], dtype=\"int32\")\n",
        "            padding_mask = tf.minimum(padding_mask, causal_mask)\n",
        "\n",
        "        attention_output_1 = self.attention_1(\n",
        "            query=inputs, value=inputs, key=inputs, attention_mask=causal_mask\n",
        "        )\n",
        "        out_1 = self.norm_1(inputs + attention_output_1)\n",
        "\n",
        "        attention_output_2 = self.attention_2(\n",
        "            query=out_1,\n",
        "            value=encoder_outputs,\n",
        "            key=encoder_outputs,\n",
        "            attention_mask=padding_mask,\n",
        "        )\n",
        "        out_2 = self.norm_2(out_1 + attention_output_2)\n",
        "        proj_output = self.dense_proj(out_2)\n",
        "\n",
        "        return self.norm_3(out_2 + proj_output)\n",
        "\n",
        "    def get_config(self):\n",
        "        config = super().get_config()\n",
        "        config.update({\n",
        "            \"embed_dim\": self.embed_dim,\n",
        "            \"latent_dim\": self.latent_dim,\n",
        "            \"n_heads\": self.n_heads,\n",
        "        })\n",
        "\n",
        "        return config"
      ],
      "metadata": {
        "id": "lJ28W5iTt05C"
      },
      "execution_count": 17,
      "outputs": []
    },
    {
      "cell_type": "markdown",
      "source": [
        "## Positional Embeddings"
      ],
      "metadata": {
        "id": "80inp10CTxHl"
      }
    },
    {
      "cell_type": "markdown",
      "source": [
        "We need `Positional Embeddings` to make sure that the model built later will be aware of the orders behind the sequences of every words."
      ],
      "metadata": {
        "id": "FxQuHZXsT0yW"
      }
    },
    {
      "cell_type": "code",
      "source": [
        "class PositionalEmbedding(layers.Layer):\n",
        "    def __init__(self, seq_len, vocab_size, embed_dim, **kwargs):\n",
        "        super(PositionalEmbedding, self).__init__(**kwargs)\n",
        "\n",
        "        self.seq_len = seq_len\n",
        "        self.vocab_size = vocab_size\n",
        "        self.embed_dim = embed_dim\n",
        "\n",
        "        self.token_embeddings = layers.Embedding(\n",
        "            input_dim=vocab_size, output_dim=embed_dim\n",
        "        )\n",
        "        self.position_embeddings = layers.Embedding(\n",
        "            input_dim=seq_len, output_dim=embed_dim\n",
        "        )\n",
        "\n",
        "    def compute_mask(self, inputs, mask=None):\n",
        "        return tf.math.not_equal(inputs, 0)\n",
        "\n",
        "    def call(self, inputs):\n",
        "        length = tf.shape(inputs)[-1]\n",
        "        positions = tf.range(start=0, limit=length, delta=1)\n",
        "        embedded_tokens = self.token_embeddings(inputs)\n",
        "        embedded_positions = self.position_embeddings(positions)\n",
        "\n",
        "        return embedded_tokens + embedded_positions\n",
        "\n",
        "    def get_config(self):\n",
        "        config = super().get_config()\n",
        "        config.update({\n",
        "            \"seq_len\": self.seq_len,\n",
        "            \"vocab_size\": self.vocab_size,\n",
        "            \"embed_dim\": self.embed_dim,\n",
        "        })\n",
        "\n",
        "        return config"
      ],
      "metadata": {
        "id": "e0k6rNO_Ty8X"
      },
      "execution_count": 18,
      "outputs": []
    },
    {
      "cell_type": "markdown",
      "source": [
        "## Building the Model"
      ],
      "metadata": {
        "id": "Dl3eoWMFUyrt"
      }
    },
    {
      "cell_type": "code",
      "source": [
        "# Model Builder\n",
        "def build_model(seq_len, vocab_size=20000, embed_dim=64, latent_dim=2048, num_heads=8):\n",
        "    # Encoder\n",
        "    encoder_inputs = keras.Input(shape=(None,), dtype=\"int64\", name=\"enc_inputs\")\n",
        "    tf = PositionalEmbedding(seq_len, vocab_size, embed_dim)(encoder_inputs)\n",
        "    encoder_outputs = Encoder(embed_dim, latent_dim, num_heads)(tf)\n",
        "    encoder = keras.Model(encoder_inputs, encoder_outputs)\n",
        "\n",
        "    # Decoder Inputs\n",
        "    decoder_inputs = keras.Input(shape=(None,), dtype=\"int64\", name=\"dec_inputs\")\n",
        "    encoded_seq_inputs = keras.Input(shape=(None, embed_dim), name=\"dec_state_inputs\")\n",
        "\n",
        "    # Positional Embeddings\n",
        "    tf = PositionalEmbedding(seq_len, vocab_size, embed_dim)(decoder_inputs)\n",
        "    tf = Decoder(embed_dim, latent_dim, num_heads)(tf, encoded_seq_inputs)\n",
        "    tf = layers.Dropout(0.5)(tf)\n",
        "\n",
        "    # Decoder Outputs\n",
        "    decoder_outputs = layers.Dense(vocab_size, activation=\"softmax\")(tf)\n",
        "    decoder = keras.Model([decoder_inputs, encoded_seq_inputs], decoder_outputs)\n",
        "    decoder_outputs = decoder([decoder_inputs, encoder_outputs])\n",
        "\n",
        "    # Combine the components\n",
        "    transformer = keras.Model(\n",
        "        [encoder_inputs, decoder_inputs], decoder_outputs, name=\"vanilla_transformer\"\n",
        "    )\n",
        "\n",
        "    return transformer"
      ],
      "metadata": {
        "id": "LVn1CapdU3Mx"
      },
      "execution_count": 19,
      "outputs": []
    },
    {
      "cell_type": "code",
      "source": [
        "# Model Training\n",
        "def train_model(\n",
        "    model, \n",
        "    train_data, \n",
        "    val_data, \n",
        "    epochs=30, \n",
        "    opt=\"rmsprop\", \n",
        "    loss=\"sparse_categorical_crossentropy\", \n",
        "    metrics=[\"accuracy\"]\n",
        "):\n",
        "    model.summary()\n",
        "    model.compile(opt, loss, metrics)\n",
        "    model.fit(train_data, epochs=epochs, validation_data=val_data)"
      ],
      "metadata": {
        "id": "JQyz9cSVXEvF"
      },
      "execution_count": 20,
      "outputs": []
    },
    {
      "cell_type": "markdown",
      "source": [
        "# Evaluation"
      ],
      "metadata": {
        "id": "lJg4UoPSjxfy"
      }
    },
    {
      "cell_type": "code",
      "source": [
        "# Predict\n",
        "def predict(model, input_sentence, input_vectorizer, output_vectorizer, max_seq_len):\n",
        "    output_vocab = output_vectorizer.get_vocabulary()\n",
        "    output_lookup = dict(zip(range(len(output_vocab)), output_vocab))\n",
        "\n",
        "    tokenized_input = input_vectorizer([input_sentence])\n",
        "    output = \"thisissos\"\n",
        "\n",
        "    for i in range(max_seq_len):\n",
        "        tokenized_target = output_vectorizer([output])[:, :-1]\n",
        "        predictions = model([tokenized_input, tokenized_target])\n",
        "\n",
        "        sampled_token_index = np.argmax(predictions[0, i, :])\n",
        "        sampled_token = output_lookup[sampled_token_index]\n",
        "        output += \" \" + sampled_token\n",
        "\n",
        "        if sampled_token == \"thisiseos\":\n",
        "            break\n",
        "\n",
        "    return output"
      ],
      "metadata": {
        "id": "KeStOfpDHsEV"
      },
      "execution_count": 21,
      "outputs": []
    },
    {
      "cell_type": "code",
      "source": [
        "# Evaluate the Model\n",
        "def evaluate(model, input_vectorizer, output_vectorizer, max_seq_len, test_pairs, sf=SmoothingFunction().method7):\n",
        "    hypotheses = []\n",
        "    references = []\n",
        "    for input, output in test_pairs:\n",
        "        translated = predict(model, input, input_vectorizer, output_vectorizer, max_seq_len)\n",
        "        hypotheses.append(translated)\n",
        "        references.append(output.split())\n",
        "        \n",
        "    bleu_score = corpus_bleu(references, hypotheses, smoothing_function=sf)\n",
        "    return bleu_score"
      ],
      "metadata": {
        "id": "vgoH7ll8X6Bl"
      },
      "execution_count": 22,
      "outputs": []
    },
    {
      "cell_type": "markdown",
      "source": [
        "# Export"
      ],
      "metadata": {
        "id": "wzt5EAbKHo7B"
      }
    },
    {
      "cell_type": "code",
      "source": [
        "# Save Transformer Model\n",
        "def save_model(model, path=\"translation.h5\"):\n",
        "    model.save(path)"
      ],
      "metadata": {
        "id": "-tHhxw6lHrEH"
      },
      "execution_count": 23,
      "outputs": []
    },
    {
      "cell_type": "code",
      "source": [
        "# Save Vectorizer\n",
        "def save_vectorizer(vectorizer, path):\n",
        "    pickle.dump(\n",
        "        {\n",
        "            \"config\": vectorizer.get_config(),\n",
        "            \"weights\": vectorizer.get_weights(),\n",
        "            \"vocab\": vectorizer.get_vocabulary()\n",
        "        }, \n",
        "        open(path, \"wb\")\n",
        "    )"
      ],
      "metadata": {
        "id": "WlvNHKZRQcE0"
      },
      "execution_count": 24,
      "outputs": []
    },
    {
      "cell_type": "code",
      "source": [
        "# Load Transformer Model\n",
        "def load_model(custom_objects, path=\"translation.h5\"):\n",
        "    return keras.models.load_model(path, custom_objects=custom_objects)"
      ],
      "metadata": {
        "id": "43v5uOumOXCH"
      },
      "execution_count": 25,
      "outputs": []
    },
    {
      "cell_type": "code",
      "source": [
        "# Load Vectorizer\n",
        "def load_vectorizer(path):\n",
        "    v = pickle.load(open(path, \"rb\"))\n",
        "    vec = TextVectorization.from_config(v[\"config\"])\n",
        "    vec.set_vocabulary(v[\"vocab\"])\n",
        "    return vec"
      ],
      "metadata": {
        "id": "8nfg4ETORWr3"
      },
      "execution_count": 26,
      "outputs": []
    },
    {
      "cell_type": "markdown",
      "source": [
        "# End-to-End"
      ],
      "metadata": {
        "id": "iJsOtvva2baQ"
      }
    },
    {
      "cell_type": "markdown",
      "source": [
        "## Vectorizer"
      ],
      "metadata": {
        "id": "0SmJrQSQ3KqI"
      }
    },
    {
      "cell_type": "code",
      "source": [
        "# Split the Dataset\n",
        "train_id, train_en = split_data_lang(train_pairs)"
      ],
      "metadata": {
        "id": "HL0f20a-9_cs"
      },
      "execution_count": 27,
      "outputs": []
    },
    {
      "cell_type": "code",
      "source": [
        "# Instantiate the vectorizer\n",
        "id_vectorizer, en_vectorizer = create_vectorizer()"
      ],
      "metadata": {
        "id": "6QGnRcDq2gDk"
      },
      "execution_count": 28,
      "outputs": []
    },
    {
      "cell_type": "code",
      "source": [
        "# Adapt the vectorizer\n",
        "adapt_vectorizer(id_vectorizer, train_id)\n",
        "adapt_vectorizer(en_vectorizer, train_en)"
      ],
      "metadata": {
        "id": "J_83GqqR3MZq"
      },
      "execution_count": 29,
      "outputs": []
    },
    {
      "cell_type": "code",
      "source": [
        "# Transform the dataset\n",
        "train_data = transform_dataset(train_pairs)\n",
        "val_data = transform_dataset(val_pairs)\n",
        "test_data = [pair[0] for pair in test_pairs]"
      ],
      "metadata": {
        "id": "hToNgw3H7SUT"
      },
      "execution_count": 30,
      "outputs": []
    },
    {
      "cell_type": "markdown",
      "source": [
        "## Model Training"
      ],
      "metadata": {
        "id": "IliqcsNjW1N8"
      }
    },
    {
      "cell_type": "code",
      "source": [
        "# Instantiate the model\n",
        "transformer = build_model(max_seq_len)"
      ],
      "metadata": {
        "id": "QNvkEWTm_Ocz"
      },
      "execution_count": 31,
      "outputs": []
    },
    {
      "cell_type": "code",
      "source": [
        "# Train the model\n",
        "train_model(transformer, train_data, val_data)"
      ],
      "metadata": {
        "colab": {
          "base_uri": "https://localhost:8080/"
        },
        "id": "ze72isavYxjC",
        "outputId": "17b5b80a-61ec-44d3-fd0c-69736440041b"
      },
      "execution_count": 32,
      "outputs": [
        {
          "output_type": "stream",
          "name": "stdout",
          "text": [
            "Model: \"vanilla_transformer\"\n",
            "__________________________________________________________________________________________________\n",
            " Layer (type)                   Output Shape         Param #     Connected to                     \n",
            "==================================================================================================\n",
            " enc_inputs (InputLayer)        [(None, None)]       0           []                               \n",
            "                                                                                                  \n",
            " positional_embedding (Position  (None, None, 64)    1294272     ['enc_inputs[0][0]']             \n",
            " alEmbedding)                                                                                     \n",
            "                                                                                                  \n",
            " dec_inputs (InputLayer)        [(None, None)]       0           []                               \n",
            "                                                                                                  \n",
            " encoder (Encoder)              (None, None, 64)     397184      ['positional_embedding[0][0]']   \n",
            "                                                                                                  \n",
            " model_1 (Functional)           (None, None, 20000)  3124256     ['dec_inputs[0][0]',             \n",
            "                                                                  'encoder[0][0]']                \n",
            "                                                                                                  \n",
            "==================================================================================================\n",
            "Total params: 4,815,712\n",
            "Trainable params: 4,815,712\n",
            "Non-trainable params: 0\n",
            "__________________________________________________________________________________________________\n",
            "Epoch 1/30\n",
            "174/174 [==============================] - 81s 423ms/step - loss: 0.2175 - accuracy: 0.2403 - val_loss: 0.1694 - val_accuracy: 0.3359\n",
            "Epoch 2/30\n",
            "174/174 [==============================] - 73s 423ms/step - loss: 0.1660 - accuracy: 0.3556 - val_loss: 0.1488 - val_accuracy: 0.3883\n",
            "Epoch 3/30\n",
            "174/174 [==============================] - 74s 424ms/step - loss: 0.1528 - accuracy: 0.3920 - val_loss: 0.1373 - val_accuracy: 0.4238\n",
            "Epoch 4/30\n",
            "174/174 [==============================] - 73s 423ms/step - loss: 0.1444 - accuracy: 0.4184 - val_loss: 0.1302 - val_accuracy: 0.4440\n",
            "Epoch 5/30\n",
            "174/174 [==============================] - 73s 423ms/step - loss: 0.1376 - accuracy: 0.4404 - val_loss: 0.1217 - val_accuracy: 0.4739\n",
            "Epoch 6/30\n",
            "174/174 [==============================] - 74s 423ms/step - loss: 0.1313 - accuracy: 0.4603 - val_loss: 0.1145 - val_accuracy: 0.4988\n",
            "Epoch 7/30\n",
            "174/174 [==============================] - 73s 423ms/step - loss: 0.1257 - accuracy: 0.4791 - val_loss: 0.1097 - val_accuracy: 0.5236\n",
            "Epoch 8/30\n",
            "174/174 [==============================] - 73s 423ms/step - loss: 0.1207 - accuracy: 0.4978 - val_loss: 0.1042 - val_accuracy: 0.5409\n",
            "Epoch 9/30\n",
            "174/174 [==============================] - 73s 423ms/step - loss: 0.1161 - accuracy: 0.5129 - val_loss: 0.1004 - val_accuracy: 0.5588\n",
            "Epoch 10/30\n",
            "174/174 [==============================] - 74s 423ms/step - loss: 0.1116 - accuracy: 0.5319 - val_loss: 0.0960 - val_accuracy: 0.5834\n",
            "Epoch 11/30\n",
            "174/174 [==============================] - 74s 423ms/step - loss: 0.1076 - accuracy: 0.5467 - val_loss: 0.0912 - val_accuracy: 0.5998\n",
            "Epoch 12/30\n",
            "174/174 [==============================] - 73s 423ms/step - loss: 0.1040 - accuracy: 0.5603 - val_loss: 0.0871 - val_accuracy: 0.6189\n",
            "Epoch 13/30\n",
            "174/174 [==============================] - 74s 423ms/step - loss: 0.1004 - accuracy: 0.5726 - val_loss: 0.0843 - val_accuracy: 0.6315\n",
            "Epoch 14/30\n",
            "174/174 [==============================] - 73s 422ms/step - loss: 0.0972 - accuracy: 0.5876 - val_loss: 0.0814 - val_accuracy: 0.6424\n",
            "Epoch 15/30\n",
            "174/174 [==============================] - 73s 422ms/step - loss: 0.0945 - accuracy: 0.5986 - val_loss: 0.0788 - val_accuracy: 0.6599\n",
            "Epoch 16/30\n",
            "174/174 [==============================] - 73s 422ms/step - loss: 0.0917 - accuracy: 0.6099 - val_loss: 0.0764 - val_accuracy: 0.6669\n",
            "Epoch 17/30\n",
            "174/174 [==============================] - 73s 422ms/step - loss: 0.0892 - accuracy: 0.6203 - val_loss: 0.0739 - val_accuracy: 0.6801\n",
            "Epoch 18/30\n",
            "174/174 [==============================] - 73s 422ms/step - loss: 0.0870 - accuracy: 0.6303 - val_loss: 0.0716 - val_accuracy: 0.6878\n",
            "Epoch 19/30\n",
            "174/174 [==============================] - 73s 421ms/step - loss: 0.0846 - accuracy: 0.6406 - val_loss: 0.0702 - val_accuracy: 0.6998\n",
            "Epoch 20/30\n",
            "174/174 [==============================] - 73s 421ms/step - loss: 0.0829 - accuracy: 0.6500 - val_loss: 0.0691 - val_accuracy: 0.7111\n",
            "Epoch 21/30\n",
            "174/174 [==============================] - 73s 421ms/step - loss: 0.0817 - accuracy: 0.6579 - val_loss: 0.0696 - val_accuracy: 0.7058\n",
            "Epoch 22/30\n",
            "174/174 [==============================] - 73s 421ms/step - loss: 0.0805 - accuracy: 0.6666 - val_loss: 0.0678 - val_accuracy: 0.7236\n",
            "Epoch 23/30\n",
            "174/174 [==============================] - 73s 422ms/step - loss: 0.0795 - accuracy: 0.6748 - val_loss: 0.0667 - val_accuracy: 0.7310\n",
            "Epoch 24/30\n",
            "174/174 [==============================] - 73s 422ms/step - loss: 0.0781 - accuracy: 0.6818 - val_loss: 0.0662 - val_accuracy: 0.7351\n",
            "Epoch 25/30\n",
            "174/174 [==============================] - 73s 422ms/step - loss: 0.0771 - accuracy: 0.6892 - val_loss: 0.0648 - val_accuracy: 0.7465\n",
            "Epoch 26/30\n",
            "174/174 [==============================] - 73s 423ms/step - loss: 0.0760 - accuracy: 0.6952 - val_loss: 0.0647 - val_accuracy: 0.7444\n",
            "Epoch 27/30\n",
            "174/174 [==============================] - 73s 422ms/step - loss: 0.0745 - accuracy: 0.7015 - val_loss: 0.0634 - val_accuracy: 0.7530\n",
            "Epoch 28/30\n",
            "174/174 [==============================] - 73s 422ms/step - loss: 0.0735 - accuracy: 0.7067 - val_loss: 0.0622 - val_accuracy: 0.7600\n",
            "Epoch 29/30\n",
            "174/174 [==============================] - 73s 423ms/step - loss: 0.0723 - accuracy: 0.7115 - val_loss: 0.0620 - val_accuracy: 0.7645\n",
            "Epoch 30/30\n",
            "174/174 [==============================] - 73s 422ms/step - loss: 0.0711 - accuracy: 0.7180 - val_loss: 0.0601 - val_accuracy: 0.7706\n"
          ]
        }
      ]
    },
    {
      "cell_type": "markdown",
      "source": [
        "## Model Saving"
      ],
      "metadata": {
        "id": "I5Zh8h8wLueE"
      }
    },
    {
      "cell_type": "code",
      "source": [
        "# Save the Model\n",
        "save_model(transformer)"
      ],
      "metadata": {
        "id": "Ftn60SO6Lxdk"
      },
      "execution_count": 33,
      "outputs": []
    },
    {
      "cell_type": "code",
      "source": [
        "# Save the Vectorizer\n",
        "save_vectorizer(id_vectorizer, \"id_vectorizer.pkl\")\n",
        "save_vectorizer(en_vectorizer, \"en_vectorizer.pkl\")"
      ],
      "metadata": {
        "id": "Vht53IrtTZQW"
      },
      "execution_count": 34,
      "outputs": []
    },
    {
      "cell_type": "markdown",
      "source": [
        "## Model Evaluation"
      ],
      "metadata": {
        "id": "v0i3IVcnFLmN"
      }
    },
    {
      "cell_type": "code",
      "source": [
        "# Evaluate with Corpus-Level BLEU Score\n",
        "evaluate(transformer, id_vectorizer, en_vectorizer, max_seq_len, test_pairs)"
      ],
      "metadata": {
        "id": "spEuT4AwJBHt",
        "colab": {
          "base_uri": "https://localhost:8080/"
        },
        "outputId": "889bc221-b23f-48fb-c33e-14f5e6099320"
      },
      "execution_count": 35,
      "outputs": [
        {
          "output_type": "execute_result",
          "data": {
            "text/plain": [
              "0.3661214545980486"
            ]
          },
          "metadata": {},
          "execution_count": 35
        }
      ]
    }
  ]
}